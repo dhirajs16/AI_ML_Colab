{
  "nbformat": 4,
  "nbformat_minor": 0,
  "metadata": {
    "colab": {
      "provenance": [],
      "mount_file_id": "1jnoqRMjo6CY1tQMfDw48XnUMrN4f_62M",
      "authorship_tag": "ABX9TyN5vzCs2saRXyneL7jVizyP",
      "include_colab_link": true
    },
    "kernelspec": {
      "name": "python3",
      "display_name": "Python 3"
    },
    "language_info": {
      "name": "python"
    }
  },
  "cells": [
    {
      "cell_type": "markdown",
      "metadata": {
        "id": "view-in-github",
        "colab_type": "text"
      },
      "source": [
        "<a href=\"https://colab.research.google.com/github/dhirajs16/Code_Basics_Practice/blob/main/CB_ML.ipynb\" target=\"_parent\"><img src=\"https://colab.research.google.com/assets/colab-badge.svg\" alt=\"Open In Colab\"/></a>"
      ]
    },
    {
      "cell_type": "markdown",
      "source": [
        "### **Multivariate Linear Regression**"
      ],
      "metadata": {
        "id": "2lHILlT6fE57"
      }
    },
    {
      "cell_type": "code",
      "source": [
        "import pandas as pd\n",
        "import numpy as np\n",
        "from sklearn import linear_model\n",
        "!pip install word2number\n",
        "from word2number import w2n"
      ],
      "metadata": {
        "colab": {
          "base_uri": "https://localhost:8080/"
        },
        "id": "3jD1ye0LgSrD",
        "outputId": "a931f24e-6e0c-42e6-9f61-73ff49bcfceb"
      },
      "execution_count": null,
      "outputs": [
        {
          "output_type": "stream",
          "name": "stdout",
          "text": [
            "Requirement already satisfied: word2number in /usr/local/lib/python3.10/dist-packages (1.1)\n"
          ]
        }
      ]
    },
    {
      "cell_type": "code",
      "source": [
        "# get data\n",
        "df = pd.read_csv('/content/drive/MyDrive/CB/datasets/hiring.csv')\n",
        "\n",
        "\n",
        "# preprocessing\n",
        "df['experience'] = df['experience'].fillna('zero')\n",
        "df['experience'] = df['experience'].apply(w2n.word_to_num)\n",
        "\n",
        "df['test_score(out of 10)'] = df['test_score(out of 10)'].fillna(int(df['test_score(out of 10)'].mean()))\n",
        "\n",
        "X = df.drop(['salary($)'], axis = 1)\n",
        "y = df['salary($)']\n",
        "\n",
        "\n",
        "# fit model\n",
        "model = linear_model.LinearRegression()\n",
        "model.fit(X, y)\n",
        "\n",
        "\n",
        "model.predict([[2, 9, 6]]), model.predict([[12, 10, 10]])\n"
      ],
      "metadata": {
        "colab": {
          "base_uri": "https://localhost:8080/"
        },
        "id": "J5W1ZsrdhXOU",
        "outputId": "75c9801c-9bff-4652-9f63-e5d3c1a6dd82"
      },
      "execution_count": 44,
      "outputs": [
        {
          "output_type": "stream",
          "name": "stderr",
          "text": [
            "/usr/local/lib/python3.10/dist-packages/sklearn/base.py:493: UserWarning: X does not have valid feature names, but LinearRegression was fitted with feature names\n",
            "  warnings.warn(\n",
            "/usr/local/lib/python3.10/dist-packages/sklearn/base.py:493: UserWarning: X does not have valid feature names, but LinearRegression was fitted with feature names\n",
            "  warnings.warn(\n"
          ]
        },
        {
          "output_type": "execute_result",
          "data": {
            "text/plain": [
              "(array([53713.86677124]), array([93747.79628651]))"
            ]
          },
          "metadata": {},
          "execution_count": 44
        }
      ]
    },
    {
      "cell_type": "code",
      "source": [],
      "metadata": {
        "colab": {
          "base_uri": "https://localhost:8080/"
        },
        "id": "TorgA65Qn82N",
        "outputId": "fd6cafba-375a-430f-cac1-aefd1be79be7"
      },
      "execution_count": null,
      "outputs": [
        {
          "output_type": "stream",
          "name": "stdout",
          "text": [
            "\u001b[33mhint: Using 'master' as the name for the initial branch. This default branch name\u001b[m\n",
            "\u001b[33mhint: is subject to change. To configure the initial branch name to use in all\u001b[m\n",
            "\u001b[33mhint: of your new repositories, which will suppress this warning, call:\u001b[m\n",
            "\u001b[33mhint: \u001b[m\n",
            "\u001b[33mhint: \tgit config --global init.defaultBranch <name>\u001b[m\n",
            "\u001b[33mhint: \u001b[m\n",
            "\u001b[33mhint: Names commonly chosen instead of 'master' are 'main', 'trunk' and\u001b[m\n",
            "\u001b[33mhint: 'development'. The just-created branch can be renamed via this command:\u001b[m\n",
            "\u001b[33mhint: \u001b[m\n",
            "\u001b[33mhint: \tgit branch -m <name>\u001b[m\n",
            "Initialized empty Git repository in /content/.git/\n"
          ]
        }
      ]
    }
  ]
}