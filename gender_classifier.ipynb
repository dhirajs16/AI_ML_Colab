{
  "nbformat": 4,
  "nbformat_minor": 0,
  "metadata": {
    "colab": {
      "provenance": [],
      "mount_file_id": "1hw9jQJl-RXbjx07QxuxOF1o_m-X-wsYg",
      "authorship_tag": "ABX9TyO5U6Vn8r3Ra46f/IE6/WMf",
      "include_colab_link": true
    },
    "kernelspec": {
      "name": "python3",
      "display_name": "Python 3"
    },
    "language_info": {
      "name": "python"
    }
  },
  "cells": [
    {
      "cell_type": "markdown",
      "metadata": {
        "id": "view-in-github",
        "colab_type": "text"
      },
      "source": [
        "<a href=\"https://colab.research.google.com/github/dhirajs16/AI_ML_Colab/blob/main/gender_classifier.ipynb\" target=\"_parent\"><img src=\"https://colab.research.google.com/assets/colab-badge.svg\" alt=\"Open In Colab\"/></a>"
      ]
    },
    {
      "cell_type": "code",
      "execution_count": null,
      "metadata": {
        "id": "nfgh7aE5ToTw"
      },
      "outputs": [],
      "source": [
        "# \"/content/flying_bird.jpg\"\n",
        "# /content/drive/MyDrive/gender_recog_data/002 2-Train-FaceRecognition-with-ML.zip"
      ]
    },
    {
      "cell_type": "code",
      "source": [
        "# from google.colab import drive\n",
        "# drive.mount('/content/drive')"
      ],
      "metadata": {
        "id": "zk6cBolqDhxG"
      },
      "execution_count": null,
      "outputs": []
    },
    {
      "cell_type": "code",
      "source": [
        "# import numpy as np\n",
        "# import cv2\n",
        "# import matplotlib.image as matimg\n",
        "# from PIL import Image\n",
        "\n",
        "# import matplotlib.pyplot as plt\n"
      ],
      "metadata": {
        "id": "7QfPqapGaCHI"
      },
      "execution_count": null,
      "outputs": []
    },
    {
      "cell_type": "code",
      "source": [
        "# # openCV reads an image in BGR\n",
        "# img_cv = cv2.imread('/content/flying_bird.jpg')\n",
        "# # matplotlib reads an image in RGB\n",
        "# img_mat = matimg.imread(\"/content/flying_bird.jpg\")\n",
        "# # PIL also reads an image in RGB\n",
        "# img_pil = Image.open(\"/content/flying_bird.jpg\")"
      ],
      "metadata": {
        "id": "0_4jbc6eabPi"
      },
      "execution_count": null,
      "outputs": []
    },
    {
      "cell_type": "code",
      "source": [
        "# import os\n",
        "# import zipfile\n",
        "\n",
        "# zip_file_path = \"/content/drive/MyDrive/gender_recog_data/002 2-Train-FaceRecognition-with-ML.zip\"\n",
        "# extract_dir = 'extracted_file'\n",
        "# os.makedirs(extract_dir, exist_ok=True)\n",
        "\n",
        "# # Unzip the file\n",
        "# with zipfile.ZipFile(zip_file_path, 'r') as zip_ref:\n",
        "#     zip_ref.extractall(extract_dir)\n",
        "\n",
        "# # List the extracted files\n",
        "# extracted_files = os.listdir(extract_dir)\n",
        "# print(\"Extracted files:\", extracted_files)\n",
        "\n",
        "# /content/extracted_file/2_Train_FaceRecognition_with_ML/data/female\n",
        "# /content/extracted_file/2_Train_FaceRecognition_with_ML/data/male"
      ],
      "metadata": {
        "colab": {
          "base_uri": "https://localhost:8080/"
        },
        "id": "JxxmzCX7EFzy",
        "outputId": "6468ec95-6e16-4767-eb65-59b670d38bbf"
      },
      "execution_count": 1,
      "outputs": [
        {
          "output_type": "stream",
          "name": "stdout",
          "text": [
            "Extracted files: ['2_Train_FaceRecognition_with_ML']\n"
          ]
        }
      ]
    },
    {
      "cell_type": "code",
      "source": [
        "import numpy as np\n",
        "import cv2\n",
        "import matplotlib.pyplot as plt\n",
        "from glob import glob"
      ],
      "metadata": {
        "id": "3is6ixK0Eula"
      },
      "execution_count": 2,
      "outputs": []
    },
    {
      "cell_type": "code",
      "source": [
        "fpath = glob('/content/extracted_file/2_Train_FaceRecognition_with_ML/data/female/*.jpg') # this will return all the images ending with .jpg\n",
        "mpath = glob('/content/extracted_file/2_Train_FaceRecognition_with_ML/data/male/*.jpg')"
      ],
      "metadata": {
        "id": "KPVAFHJcH1ks"
      },
      "execution_count": 3,
      "outputs": []
    },
    {
      "cell_type": "code",
      "source": [
        "### step 1 : Read image and convert into RGB\n",
        "img = cv2.imread(fpath[0]) # read the image in BGR format\n",
        "img_rgb = cv2.cvtColor(img, cv2.COLOR_BGR2RGB) # it will convert the image into rgb\n",
        "\n",
        "### step 2 : Apply Haar Cascade Classifier\n",
        "haar = cv2.CascadeClassifier('/content/extracted_file/2_Train_FaceRecognition_with_ML/model/haarcascade_frontalface_default.xml') # detect the face out of the entire image\n",
        "gray = cv2.cvtColor(img, cv2.COLOR_BGR2GRAY)\n",
        "faces_list = haar.detectMultiScale(gray, 1.5, 5)\n",
        "for x, y, w, h in faces_list: # draw a rectangle around the face\n",
        "  cv2.rectangle(img_rgb, (x,y), (x+w, y+h), (0, 255, 0), 2)\n",
        "\n",
        "\n",
        "### step 3 : Crop face\n",
        "### step 4 : Save Image\n"
      ],
      "metadata": {
        "id": "yx7kDPs6IR0b"
      },
      "execution_count": 12,
      "outputs": []
    },
    {
      "cell_type": "code",
      "source": [
        "\n",
        "\n",
        "\n"
      ],
      "metadata": {
        "id": "Su2uEUE1K0_d"
      },
      "execution_count": 16,
      "outputs": []
    }
  ]
}